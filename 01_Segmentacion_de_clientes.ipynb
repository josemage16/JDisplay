{
  "nbformat": 4,
  "nbformat_minor": 0,
  "metadata": {
    "colab": {
      "name": "01 - Segmentacion de clientes.ipynb",
      "provenance": [],
      "collapsed_sections": [],
      "include_colab_link": true
    },
    "kernelspec": {
      "display_name": "Python 3",
      "language": "python",
      "name": "python3"
    },
    "language_info": {
      "codemirror_mode": {
        "name": "ipython",
        "version": 3
      },
      "file_extension": ".py",
      "mimetype": "text/x-python",
      "name": "python",
      "nbconvert_exporter": "python",
      "pygments_lexer": "ipython3",
      "version": "3.8.3"
    }
  },
  "cells": [
    {
      "cell_type": "markdown",
      "metadata": {
        "id": "view-in-github",
        "colab_type": "text"
      },
      "source": [
        "<a href=\"https://colab.research.google.com/github/josemage16/JDisplay/blob/main/01_Segmentacion_de_clientes.ipynb\" target=\"_parent\"><img src=\"https://colab.research.google.com/assets/colab-badge.svg\" alt=\"Open In Colab\"/></a>"
      ]
    },
    {
      "cell_type": "markdown",
      "metadata": {
        "id": "FS-7jwbAIVJW"
      },
      "source": [
        "# Segmentación de clientes usando K-means\n",
        "\n",
        "**Autor:** Roberto Muñoz <br />\n",
        "**Github:** <https://github.com/rpmunoz> <br />\n",
        "\n",
        "Este notebook muestra cómo entrenar un modelo no supervisado para identificar los diferentes tipos de clientes de una empresa. Se muestra la lectura de los datos, el análisis exploratorio, el análisis de correlación y la construcción de un modelo de clustering usando el método de K-means.\n",
        "\n",
        "Este notebook se apoya en múltiples librerías estándar de python:\n",
        "\n",
        "- numpy\n",
        "- pandas\n",
        "- matplotlib\n",
        "- seaborn\n",
        "- scikit-learn\n",
        "\n",
        "Este dataset corresponde a las ventas realizadas durante el año 2019 por una fábrica de bebidas en Chile. Las columnas del archivo son las siguientes:\n",
        "\n",
        "- ID cliente: Identificación única del cliente\n",
        "- Volumen medio anual: Número total de cajas vendidas durante el año 2019\n",
        "- Precio promedio por caja: Valor en pesos chilenos de una caja\n",
        "- Dias de retraso: Número de días transcurridos entre la emisión de la orden de compra y el pago del cliente\n",
        "- Periodos con compra promedio: Número de meses en el año en que el cliente realizó compras"
      ]
    },
    {
      "cell_type": "code",
      "metadata": {
        "id": "A22_aUlfuX4X"
      },
      "source": [
        "import os\n",
        "import requests\n",
        "import numpy as np\n",
        "import matplotlib.pyplot as plt\n",
        "import pandas as pd\n",
        "import seaborn as sns\n",
        "\n",
        "plt.rcParams.update({'font.size': 16})\n",
        "pd.set_option('display.max_columns', None)"
      ],
      "execution_count": 1,
      "outputs": []
    },
    {
      "cell_type": "markdown",
      "metadata": {
        "id": "bLtvhuZ1Fei0"
      },
      "source": [
        "## 1. Lectura de los datos desde un archivo Excel a un DataFrame en Pandas"
      ]
    },
    {
      "cell_type": "code",
      "metadata": {
        "id": "CnS6leC5vSKJ"
      },
      "source": [
        "dataDir='data'\n",
        "resultsDir='results'\n",
        "\n",
        "if not os.path.exists(dataDir):\n",
        "    os.mkdir(dataDir)\n",
        "\n",
        "if not os.path.exists(resultsDir):\n",
        "    os.mkdir(resultsDir)"
      ],
      "execution_count": 2,
      "outputs": []
    },
    {
      "cell_type": "code",
      "metadata": {
        "id": "J8mzqhEDvosV"
      },
      "source": [
        "dataURL = 'https://rmunoz-public.s3.amazonaws.com/ml/Base_de_clientes.xlsx'\n",
        "dataFile = 'data/Base_de_clientes.xlsx'\n",
        "\n",
        "r = requests.get(dataURL, allow_redirects=True)\n",
        "open(dataFile, 'wb').write(r.content)\n",
        "\n",
        "dataDF=pd.read_excel(dataFile, header=0)\n",
        "dataDF.head()"
      ],
      "execution_count": null,
      "outputs": []
    },
    {
      "cell_type": "code",
      "metadata": {
        "id": "aERpxrVSIirG"
      },
      "source": [
        "print(len(dataDF))"
      ],
      "execution_count": null,
      "outputs": []
    },
    {
      "cell_type": "code",
      "metadata": {
        "id": "bjKWOghozYmd"
      },
      "source": [
        "figFile = os.path.join(resultsDir, \"pairwise_plot_ALL.png\")\n",
        "\n",
        "sns.set_style('darkgrid')\n",
        "sns.set_context(\"talk\")#, rc={\"font.size\":18,\"axes.titlesize\":18,\"axes.labelsize\":17}) \n",
        "g = sns.pairplot(dataDF)\n",
        "\n",
        "xlabels,ylabels = [],[]\n",
        "\n",
        "for ax in g.axes[-1,:]:\n",
        "    xlabel = ax.xaxis.get_label_text()\n",
        "    xlabels.append(xlabel)\n",
        "for ax in g.axes[:,0]:\n",
        "    ylabel = ax.yaxis.get_label_text()\n",
        "    ylabels.append(ylabel)\n",
        "\n",
        "for i in range(len(xlabels)):\n",
        "    for j in range(len(ylabels)):\n",
        "        g.axes[j,i].xaxis.set_label_text(xlabels[i])\n",
        "        #g.axes[j,i].yaxis.set_label_text(ylabels[j])\n",
        "\n",
        "print(xlabels)\n",
        "print(ylabels)\n",
        "\n",
        "fig = g.fig \n",
        "fig.subplots_adjust(top=0.98, bottom=0.05, right=0.98, wspace=0.1, hspace=0.1)\n",
        "g.fig.set_size_inches(16,16)\n",
        "\n",
        "plt.savefig(figFile)"
      ],
      "execution_count": null,
      "outputs": []
    },
    {
      "cell_type": "markdown",
      "metadata": {
        "id": "aSA91aOi1AKU"
      },
      "source": [
        "## 2. Analisis de correlacion"
      ]
    },
    {
      "cell_type": "code",
      "metadata": {
        "id": "AgROdROA0_b4"
      },
      "source": [
        "figFile = os.path.join(resultsDir, \"correlation_plot_ALL.png\")\n",
        "\n",
        "fig, ax = plt.subplots(figsize=(16,16))\n",
        "sns.set_context(\"talk\", rc={\"font.size\":18,\"axes.titlesize\":18,\"axes.labelsize\":24}) \n",
        "g = sns.heatmap(dataDF.corr(), annot=True, annot_kws={\"fontsize\":24}, ax=ax)\n",
        "#sns.set(font_scale=1)\n",
        "plt.xticks(rotation=45)\n",
        "plt.yticks(rotation=45)\n",
        "#g.set_size_inches(16,16)\n",
        "plt.tight_layout()\n",
        "plt.savefig(figFile)"
      ],
      "execution_count": null,
      "outputs": []
    },
    {
      "cell_type": "code",
      "metadata": {
        "id": "Ks1wlNZ53Mg0"
      },
      "source": [
        "sns.set_context(\"talk\", rc={\"font.size\":20,\"axes.titlesize\":20,\"axes.labelsize\":25}) \n",
        "g= sns.lmplot('Periodos con Compra promedio', 'Volumen Medio Anual', data=dataDF)\n",
        "g.fig.set_size_inches(16,12)\n",
        "plt.title('Volumen medio anual vs Periodos con compra')\n",
        "\n",
        "plt.tight_layout()"
      ],
      "execution_count": null,
      "outputs": []
    },
    {
      "cell_type": "markdown",
      "metadata": {
        "id": "gwAfuLma6tP-"
      },
      "source": [
        "## 3. Analisis de clustering usando metodo K-means"
      ]
    },
    {
      "cell_type": "code",
      "metadata": {
        "id": "mpxDoY2o6sbq"
      },
      "source": [
        "import matplotlib.cm as cm\n",
        "from sklearn.preprocessing import StandardScaler\n",
        "from sklearn.cluster import KMeans\n",
        "from sklearn.metrics import pairwise_distances_argmin\n",
        "from sklearn.metrics import silhouette_samples, silhouette_score"
      ],
      "execution_count": null,
      "outputs": []
    },
    {
      "cell_type": "code",
      "metadata": {
        "id": "DBj1bw_PYqEx"
      },
      "source": [
        "def plot_elbow(X):\n",
        "\n",
        "    sse={}\n",
        "    for k in range(1, 10):\n",
        "        kmeans = KMeans(n_clusters=k, max_iter=1000).fit(X)\n",
        "        sse[k] = kmeans.inertia_ \n",
        "\n",
        "    plt.figure(figsize=(16,9))\n",
        "    plt.plot(list(sse.keys()), list(sse.values()))\n",
        "    plt.xlabel(\"Number of cluster\")\n",
        "    plt.show()"
      ],
      "execution_count": null,
      "outputs": []
    },
    {
      "cell_type": "code",
      "metadata": {
        "id": "_wH8Tv8-_z17"
      },
      "source": [
        "def find_clusters(X, n_clusters, rseed=2):\n",
        "    # 1. Randomly choose clusters\n",
        "    rng = np.random.RandomState(rseed)\n",
        "    i = rng.permutation(X.shape[0])[:n_clusters]\n",
        "    centers = X[i]\n",
        "    \n",
        "    while True:\n",
        "        # 2a. Assign labels based on closest center\n",
        "        labels = pairwise_distances_argmin(X, centers)\n",
        "        \n",
        "        # 2b. Find new centers from means of points\n",
        "        new_centers = np.array([X[labels == i].mean(0)\n",
        "                                for i in range(n_clusters)])\n",
        "        \n",
        "        # 2c. Check for convergence\n",
        "        if np.all(centers == new_centers):\n",
        "            break\n",
        "        centers = new_centers\n",
        "    \n",
        "    return centers, labels"
      ],
      "execution_count": null,
      "outputs": []
    },
    {
      "cell_type": "code",
      "metadata": {
        "id": "pxDCSALAQiND"
      },
      "source": [
        "def plot_silhouette(X):\n",
        "\n",
        "  sse={}\n",
        "  for n_clusters in range(2, 10):\n",
        "      # Create a subplot with 1 row and 2 columns\n",
        "      fig, (ax1, ax2) = plt.subplots(1, 2)\n",
        "      fig.set_size_inches(18, 7)\n",
        "\n",
        "      # The 1st subplot is the silhouette plot\n",
        "      # The silhouette coefficient can range from -1, 1 but in this example all\n",
        "      # lie within [-0.1, 1]\n",
        "      ax1.set_xlim([-0.1, 1])\n",
        "      # The (n_clusters+1)*10 is for inserting blank space between silhouette\n",
        "      # plots of individual clusters, to demarcate them clearly.\n",
        "      ax1.set_ylim([0, len(X) + (n_clusters + 1) * 10])\n",
        "\n",
        "      # Initialize the clusterer with n_clusters value and a random generator\n",
        "      # seed of 10 for reproducibility.\n",
        "      clusterer = KMeans(n_clusters=n_clusters, random_state=10)\n",
        "      cluster_labels = clusterer.fit_predict(X)\n",
        "\n",
        "      # The silhouette_score gives the average value for all the samples.\n",
        "      # This gives a perspective into the density and separation of the formed\n",
        "      # clusters\n",
        "      silhouette_avg = silhouette_score(X, cluster_labels)\n",
        "      sse[n_clusters] = silhouette_avg\n",
        "      print(\"For n_clusters =\", n_clusters,\n",
        "            \"The average silhouette_score is :\", silhouette_avg)\n",
        "\n",
        "      # Compute the silhouette scores for each sample\n",
        "      sample_silhouette_values = silhouette_samples(X, cluster_labels)\n",
        "\n",
        "      y_lower = 10\n",
        "      for i in range(n_clusters):\n",
        "          # Aggregate the silhouette scores for samples belonging to\n",
        "          # cluster i, and sort them\n",
        "          ith_cluster_silhouette_values = \\\n",
        "              sample_silhouette_values[cluster_labels == i]\n",
        "\n",
        "          ith_cluster_silhouette_values.sort()\n",
        "\n",
        "          size_cluster_i = ith_cluster_silhouette_values.shape[0]\n",
        "          y_upper = y_lower + size_cluster_i\n",
        "\n",
        "          color = cm.nipy_spectral(float(i) / n_clusters)\n",
        "          ax1.fill_betweenx(np.arange(y_lower, y_upper),\n",
        "                            0, ith_cluster_silhouette_values,\n",
        "                            facecolor=color, edgecolor=color, alpha=0.7)\n",
        "\n",
        "          # Label the silhouette plots with their cluster numbers at the middle\n",
        "          ax1.text(-0.05, y_lower + 0.5 * size_cluster_i, str(i))\n",
        "\n",
        "          # Compute the new y_lower for next plot\n",
        "          y_lower = y_upper + 10  # 10 for the 0 samples\n",
        "\n",
        "      ax1.set_title(\"The silhouette plot for the various clusters.\")\n",
        "      ax1.set_xlabel(\"The silhouette coefficient values\")\n",
        "      ax1.set_ylabel(\"Cluster label\")\n",
        "\n",
        "      # The vertical line for average silhouette score of all the values\n",
        "      ax1.axvline(x=silhouette_avg, color=\"red\", linestyle=\"--\")\n",
        "\n",
        "      ax1.set_yticks([])  # Clear the yaxis labels / ticks\n",
        "      ax1.set_xticks([-0.1, 0, 0.2, 0.4, 0.6, 0.8, 1])\n",
        "\n",
        "      # 2nd Plot showing the actual clusters formed\n",
        "      colors = cm.nipy_spectral(cluster_labels.astype(float) / n_clusters)\n",
        "      ax2.scatter(X[:, 0], X[:, 1], marker='.', s=30, lw=0, alpha=0.7,\n",
        "                  c=colors, edgecolor='k')\n",
        "\n",
        "      # Labeling the clusters\n",
        "      centers = clusterer.cluster_centers_\n",
        "      # Draw white circles at cluster centers\n",
        "      ax2.scatter(centers[:, 0], centers[:, 1], marker='o',\n",
        "                  c=\"white\", alpha=1, s=200, edgecolor='k')\n",
        "\n",
        "      for i, c in enumerate(centers):\n",
        "          ax2.scatter(c[0], c[1], marker='$%d$' % i, alpha=1,\n",
        "                      s=50, edgecolor='k')\n",
        "\n",
        "      ax2.set_title(\"The visualization of the clustered data.\")\n",
        "      ax2.set_xlabel(\"Feature space for the 1st feature\")\n",
        "      ax2.set_ylabel(\"Feature space for the 2nd feature\")\n",
        "\n",
        "      plt.suptitle((\"Silhouette analysis for KMeans clustering on sample data \"\n",
        "                    \"with n_clusters = %d\" % n_clusters),\n",
        "                  fontsize=14, fontweight='bold')\n",
        "\n",
        "  plt.show()\n",
        "\n",
        "  plt.figure(figsize=(16,9))\n",
        "  plt.plot(list(sse.keys()), list(sse.values()))\n",
        "  plt.xlabel(\"Number of cluster\")\n",
        "  plt.show()"
      ],
      "execution_count": null,
      "outputs": []
    },
    {
      "cell_type": "code",
      "metadata": {
        "id": "LvCzziLcCwoK"
      },
      "source": [
        "dataDF.columns"
      ],
      "execution_count": null,
      "outputs": []
    },
    {
      "cell_type": "code",
      "metadata": {
        "id": "oxdx6mZEbCPa"
      },
      "source": [
        "maskColumns = [1,2,3,4]\n",
        "X = dataDF.iloc[:, maskColumns]\n",
        "\n",
        "# We standarize the features using a Normal distribution\n",
        "scaler = StandardScaler()\n",
        "X_std = scaler.fit_transform(X)"
      ],
      "execution_count": null,
      "outputs": []
    },
    {
      "cell_type": "markdown",
      "metadata": {
        "id": "0rLWENTpTxNf"
      },
      "source": [
        "## Gráfico de codo"
      ]
    },
    {
      "cell_type": "code",
      "metadata": {
        "id": "A4lgdi6_bH4e"
      },
      "source": [
        "plot_elbow(X_std)"
      ],
      "execution_count": null,
      "outputs": []
    },
    {
      "cell_type": "markdown",
      "metadata": {
        "id": "wVtgvMW7T0gd"
      },
      "source": [
        "## Gráfico de silueta"
      ]
    },
    {
      "cell_type": "code",
      "metadata": {
        "id": "BfEVy9YNRLMe"
      },
      "source": [
        "plot_silhouette(X_std)"
      ],
      "execution_count": null,
      "outputs": []
    },
    {
      "cell_type": "markdown",
      "metadata": {
        "id": "m2gMK2YBO2Xh"
      },
      "source": [
        "## ¿Cuál es el número óptimo de segmentos? \n",
        "\n",
        "Lea este articulo y defina cual es el número optimo de clusters https://towardsdatascience.com/silhouette-method-better-than-elbow-method-to-find-optimal-clusters-378d62ff6891\n",
        "\n",
        "Reemplace la variable nClusters con el número optimo de clusters\n",
        "\n"
      ]
    },
    {
      "cell_type": "code",
      "metadata": {
        "id": "oj7EzMcv64dU"
      },
      "source": [
        "nClusters = 1\n",
        "current_palette = sns.color_palette(\"tab10\", n_colors=nClusters)\n",
        "\n",
        "centers, labels = find_clusters(X_std, nClusters)\n",
        "X['cluster'] = labels"
      ],
      "execution_count": null,
      "outputs": []
    },
    {
      "cell_type": "code",
      "metadata": {
        "id": "d8a3AeZuH6lp"
      },
      "source": [
        "figFile = os.path.join(resultsDir, \"pairwise_plot_CLUSTERS.png\")\n",
        "\n",
        "sns.set_style('darkgrid')\n",
        "sns.set_context(\"talk\")\n",
        "#sns.set_context(\"talk\", rc={\"font.size\":18,\"axes.titlesize\":18,\"axes.labelsize\":17})\n",
        "\n",
        "g = sns.pairplot(X, hue='cluster',  vars=['Volumen Medio Anual', 'Precio Promedio por caja',\n",
        "       'Dias de Retraso', 'Periodos con Compra promedio'],\n",
        "       palette=current_palette, plot_kws={\"alpha\":1.0})\n",
        "\n",
        "g._legend.remove()\n",
        "handles = g._legend_data.values()\n",
        "labels = g._legend_data.keys()\n",
        "g.fig.legend(handles=handles, labels=labels, loc='center right', ncol=1, frameon=True)\n",
        "\n",
        "xlabels,ylabels = [],[]\n",
        "\n",
        "for ax in g.axes[-1,:]:\n",
        "    xlabel = ax.xaxis.get_label_text()\n",
        "    xlabels.append(xlabel)\n",
        "for ax in g.axes[:,0]:\n",
        "    ylabel = ax.yaxis.get_label_text()\n",
        "    ylabels.append(ylabel)\n",
        "\n",
        "for i in range(len(xlabels)):\n",
        "    for j in range(len(ylabels)):\n",
        "        g.axes[j,i].xaxis.set_label_text(xlabels[i])\n",
        "\n",
        "fig = g.fig \n",
        "fig.subplots_adjust(top=0.98, bottom=0.05, right=0.98, wspace=0.1, hspace=0.1)\n",
        "\n",
        "g.fig.set_size_inches(16,16)\n",
        "#plt.tight_layout()\n",
        "plt.savefig(figFile)\n"
      ],
      "execution_count": null,
      "outputs": []
    },
    {
      "cell_type": "code",
      "metadata": {
        "id": "lV2IeDl3pJPy"
      },
      "source": [
        "sns.set_style('darkgrid')\n",
        "sns.set_context(\"talk\")\n",
        "\n",
        "g = sns.FacetGrid(X, hue=\"cluster\")\n",
        "g.fig.set_size_inches(12,9)\n",
        "g = g.map(sns.kdeplot, \"Volumen Medio Anual\")\n",
        "plt.tight_layout()\n",
        "plt.show()\n",
        "\n",
        "g = sns.FacetGrid(X, hue=\"cluster\")\n",
        "g.fig.set_size_inches(12,9)\n",
        "g = g.map(sns.kdeplot, \"Precio Promedio por caja\", linewidth=4)\n",
        "plt.tight_layout()\n",
        "figFile = os.path.join(resultsDir, \"histogram_precio_promedio_caja.png\")\n",
        "plt.savefig(figFile)\n",
        "plt.show()\n",
        "\n",
        "g = sns.FacetGrid(X, hue=\"cluster\")\n",
        "g.fig.set_size_inches(8,6)\n",
        "g = g.map(sns.kdeplot, \"Periodos con Compra promedio\")\n",
        "plt.show()\n",
        "\n",
        "fig, ax = plt.subplots(figsize=(12,9))\n",
        "g=sns.scatterplot( 'Precio Promedio por caja', 'Volumen Medio Anual', data=X,\n",
        "                hue='cluster', s=80, palette=current_palette, ax=ax)\n",
        "#g.legend(loc='center left', bbox_to_anchor=(1.1, 0.5), ncol=1)\n",
        "plt.tight_layout()\n",
        "figFile = os.path.join(resultsDir, \"scatter_precio_promedio_volumen_medio.png\")\n",
        "plt.savefig(figFile)\n",
        "plt.show()\n",
        "\n",
        "fig, ax = plt.subplots(figsize=(12,9))\n",
        "g=sns.scatterplot( 'Periodos con Compra promedio',  'Volumen Medio Anual', data=X,\n",
        "                hue='cluster', s=80, palette=current_palette, ax=ax)\n",
        "#g.legend(loc='center left', bbox_to_anchor=(1.1, 0.5), ncol=1)\n",
        "figFile = os.path.join(resultsDir, \"scatter_periodos_compra_volumen_medio.png\")\n",
        "plt.savefig(figFile)\n",
        "plt.show()\n",
        "\n",
        "\n",
        "fig, ax = plt.subplots(figsize=(8,6))\n",
        "g=sns.scatterplot( 'Dias de Retraso', 'Volumen Medio Anual', data=X,\n",
        "                hue='cluster', s=50, palette=current_palette, ax=ax)\n",
        "g.legend(loc='center left', bbox_to_anchor=(1.1, 0.5), ncol=1)\n",
        "plt.show()\n",
        "\n",
        "fig, ax = plt.subplots(figsize=(8,6))\n",
        "g=sns.scatterplot('Periodos con Compra promedio', 'Precio Promedio por caja', data=X,\n",
        "                hue='cluster', s=50, palette=current_palette, ax=ax)\n",
        "g.legend(loc='center left', bbox_to_anchor=(1.1, 0.5), ncol=1)\n",
        "plt.show()"
      ],
      "execution_count": null,
      "outputs": []
    },
    {
      "cell_type": "markdown",
      "metadata": {
        "id": "fmCItdgcIVJf"
      },
      "source": [
        "## 4. Interpretación de resultados"
      ]
    },
    {
      "cell_type": "code",
      "metadata": {
        "id": "I0eFk5l-5LPi"
      },
      "source": [
        "summaryList=[]\n",
        "for name, group in X.groupby(\"cluster\"):\n",
        "    tempMean = group.mean()\n",
        "    tempDict = {\"Segmento\": name, \"N clientes\":len(group),\n",
        "              \"Venta promedio por cliente\": np.round(tempMean['Volumen Medio Anual']*tempMean['Precio Promedio por caja'])/len(group),\n",
        "              \"Periodos con compra\": tempMean['Periodos con Compra promedio'],\n",
        "              \"Precio promedio por caja\": tempMean['Precio Promedio por caja'],\n",
        "              \"Volumen cajas promedio\": tempMean['Volumen Medio Anual'],\n",
        "              \"Ventas anuales\":np.round(tempMean['Volumen Medio Anual']*tempMean['Precio Promedio por caja']) }\n",
        "    summaryList.append(tempDict)\n",
        "\n",
        "    print(\"\\nGroup name: \", name)\n",
        "    print(\"Numero de clientes: \", len(group))\n",
        "    print(group.mean())\n",
        "\n",
        "summaryDF = pd.DataFrame(summaryList)\n",
        "print(summaryDF)\n"
      ],
      "execution_count": null,
      "outputs": []
    },
    {
      "cell_type": "code",
      "metadata": {
        "id": "zhe5Q0YFWQt3"
      },
      "source": [
        "fig, ax = plt.subplots(figsize=(12,9))\n",
        "\n",
        "sp = sns.scatterplot(x=\"Periodos con compra\", y=\"Venta promedio por cliente\", data=summaryDF, hue='Segmento',\n",
        "                     size=\"Ventas anuales\", sizes=(50, 10000), palette=current_palette, legend=None)\n",
        "\n",
        "fig, ax = plt.subplots(figsize=(12,9))\n",
        "sp = sns.scatterplot(x=\"Periodos con compra\", y=\"Volumen cajas promedio\", data=summaryDF, hue='Segmento',\n",
        "                     size=\"Ventas anuales\", sizes=(50, 10000), palette=current_palette, legend=None)\n",
        "plt.xlim((1,12))\n",
        "plt.ylim((-1e3,15e3))\n",
        "\n",
        "fig, ax = plt.subplots(figsize=(12,9))\n",
        "sp = sns.scatterplot(x=\"Periodos con compra\", y=\"Precio promedio por caja\", data=summaryDF, hue='Segmento',\n",
        "                     size=\"Ventas anuales\", sizes=(50, 10000), palette=current_palette, legend=None)\n",
        "\n",
        "\n",
        "#sp._legend.remove()"
      ],
      "execution_count": null,
      "outputs": []
    },
    {
      "cell_type": "code",
      "metadata": {
        "id": "QZRvKK95LZj7"
      },
      "source": [
        ""
      ],
      "execution_count": null,
      "outputs": []
    }
  ]
}