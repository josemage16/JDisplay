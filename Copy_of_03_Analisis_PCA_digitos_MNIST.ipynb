{
  "nbformat": 4,
  "nbformat_minor": 0,
  "metadata": {
    "colab": {
      "name": "Copy of 03 - Analisis PCA digitos MNIST.ipynb",
      "provenance": [],
      "collapsed_sections": [],
      "toc_visible": true,
      "include_colab_link": true
    },
    "kernelspec": {
      "display_name": "Computer Vision",
      "language": "python",
      "name": "cv"
    },
    "language_info": {
      "codemirror_mode": {
        "name": "ipython",
        "version": 3
      },
      "file_extension": ".py",
      "mimetype": "text/x-python",
      "name": "python",
      "nbconvert_exporter": "python",
      "pygments_lexer": "ipython3",
      "version": "3.7.9"
    }
  },
  "cells": [
    {
      "cell_type": "markdown",
      "metadata": {
        "id": "view-in-github",
        "colab_type": "text"
      },
      "source": [
        "<a href=\"https://colab.research.google.com/github/josemage16/JDisplay/blob/main/Copy_of_03_Analisis_PCA_digitos_MNIST.ipynb\" target=\"_parent\"><img src=\"https://colab.research.google.com/assets/colab-badge.svg\" alt=\"Open In Colab\"/></a>"
      ]
    },
    {
      "cell_type": "markdown",
      "metadata": {
        "id": "pb5Z5vOhcVND"
      },
      "source": [
        "# Analisis de Componentes Principales (PCA)\n",
        "\n",
        "**Autor**: Roberto Muñoz Soria\n",
        "\n",
        "**Github**: https://github.com/rpmunoz\n",
        "\n",
        "\n",
        "La base de datos MNIST de dígitos escritos a mano tiene un conjunto de entrenamiento de 60.000 ejemplos y un conjunto de prueba de 10.000 ejemplos. Es un subconjunto de un conjunto más grande disponible en NIST. Los dígitos se normalizaron en tamaño y se centraron en una imagen de tamaño fijo.\n",
        "<br>\n",
        "\n",
        "Es una buena base de datos para las personas que desean probar técnicas de aprendizaje y métodos de reconocimiento de patrones en datos del mundo real mientras dedican un esfuerzo mínimo al preprocesamiento y formato."
      ]
    },
    {
      "cell_type": "markdown",
      "metadata": {
        "id": "DFFqNbY8cVNE"
      },
      "source": [
        "Parameters | Number\n",
        "--- | ---\n",
        "Classes | 10\n",
        "Samples per class | ~7000 samples per class\n",
        "Samples total | 70000\n",
        "Dimensionality | 784\n",
        "Features | integers values from 0 to 255"
      ]
    },
    {
      "cell_type": "code",
      "metadata": {
        "id": "3fHr4CmWcVNE"
      },
      "source": [
        "import os\n",
        "import requests\n",
        "import numpy as np\n",
        "import pandas as pd\n",
        "\n",
        "import matplotlib.pyplot as plt\n",
        "import seaborn as sns"
      ],
      "execution_count": null,
      "outputs": []
    },
    {
      "cell_type": "markdown",
      "metadata": {
        "id": "xRj-iblEQGi8"
      },
      "source": [
        "## Descargar los datos"
      ]
    },
    {
      "cell_type": "code",
      "metadata": {
        "id": "xuV3KgsJc5Ub"
      },
      "source": [
        "dataDir = 'data'\n",
        "if not os.path.exists(dataDir):\n",
        "  os.mkdir(dataDir)"
      ],
      "execution_count": null,
      "outputs": []
    },
    {
      "cell_type": "code",
      "metadata": {
        "id": "rgAKESY_cVNE"
      },
      "source": [
        "imgSize = (28, 28)\n",
        "nSample = 10000\n",
        "\n",
        "trainURL = \"https://rmunoz-public.s3.amazonaws.com/ml/Kaggle_mnist_train.csv\"\n",
        "testURL = \"https://rmunoz-public.s3.amazonaws.com/ml/Kaggle_mnist_test.csv\"\n",
        "\n",
        "trainFile = os.path.join(dataDir, \"Kaggle_mnist_train.csv\")\n",
        "testFile = os.path.join(dataDir, \"Kaggle_mnist_test.csv\")"
      ],
      "execution_count": null,
      "outputs": []
    },
    {
      "cell_type": "code",
      "metadata": {
        "id": "0lUtWnDucVNF"
      },
      "source": [
        "r = requests.get(trainURL, stream=True)\n",
        "with open(trainFile, \"wb\") as f:\n",
        "    f.write(r.content)\n",
        "    \n",
        "r = requests.get(testURL, stream=True)\n",
        "with open(testFile, \"wb\") as f:\n",
        "    f.write(r.content)"
      ],
      "execution_count": null,
      "outputs": []
    },
    {
      "cell_type": "code",
      "metadata": {
        "id": "wp-ij13HQGi-"
      },
      "source": [
        "trainDF = pd.read_csv(trainFile)\n",
        "nTrain = len(trainDF)\n",
        "\n",
        "trainDF.head()"
      ],
      "execution_count": null,
      "outputs": []
    },
    {
      "cell_type": "code",
      "metadata": {
        "id": "exq_PVGpcVNF"
      },
      "source": [
        "trainYDF = trainDF['label']\n",
        "trainXDF = trainDF.drop(['label'], axis=1)"
      ],
      "execution_count": null,
      "outputs": []
    },
    {
      "cell_type": "code",
      "metadata": {
        "id": "TTAYdlDqQGjE"
      },
      "source": [
        "print(trainXDF.shape)\n",
        "print(trainYDF.shape)"
      ],
      "execution_count": null,
      "outputs": []
    },
    {
      "cell_type": "code",
      "metadata": {
        "id": "OFPxxtvlQGjJ"
      },
      "source": [
        "idx = np.random.choice(range(nTrain))\n",
        "\n",
        "plt.figure(figsize=(7,7))\n",
        "dataRaw = trainXDF.iloc[idx].values.reshape(imgSize[0], imgSize[1])\n",
        "plt.imshow(dataRaw, interpolation = \"none\", cmap = \"gray\")\n",
        "plt.show()"
      ],
      "execution_count": null,
      "outputs": []
    },
    {
      "cell_type": "markdown",
      "metadata": {
        "id": "uF4ViytmQGjO"
      },
      "source": [
        "## Preprocesamos los datos"
      ]
    },
    {
      "cell_type": "code",
      "metadata": {
        "id": "6RWnz578QGjP"
      },
      "source": [
        "trainX = trainXDF.sample(nSample, random_state=42).to_numpy()\n",
        "trainY = trainYDF.sample(nSample, random_state=42).to_numpy(dtype=int)\n",
        "\n",
        "print(\"Tamaño de la muestra: \", trainX.shape)\n",
        "print(\"Valor mínimo: \", np.min(trainX))\n",
        "print(\"Valor máximo: \", np.max(trainX))"
      ],
      "execution_count": null,
      "outputs": []
    },
    {
      "cell_type": "code",
      "metadata": {
        "id": "9qWXuMacQGjU"
      },
      "source": [
        "from sklearn.preprocessing import StandardScaler\n",
        "\n",
        "scaler = StandardScaler()\n",
        "trainProcX = scaler.fit_transform(trainX)\n",
        "\n",
        "print(\"Tamaño de trainX normalizado: \", trainProcX.shape)\n",
        "print(\"Valor mínimo: \", np.min(trainProcX))\n",
        "print(\"Valor máximo: \", np.max(trainProcX))"
      ],
      "execution_count": null,
      "outputs": []
    },
    {
      "cell_type": "markdown",
      "metadata": {
        "id": "puAspf_TcVNG"
      },
      "source": [
        "# Método 1: Cálculo de PCA usando funciones básicas de Python"
      ]
    },
    {
      "cell_type": "code",
      "metadata": {
        "id": "ho9hboDkQGjb"
      },
      "source": [
        "#find the co-variance matrix which is : A^T * A\n",
        "\n",
        "covar_matrix = np.matmul(trainProcX.T , trainProcX)\n",
        "\n",
        "print ( \"The shape of variance matrix = \", covar_matrix.shape)"
      ],
      "execution_count": null,
      "outputs": []
    },
    {
      "cell_type": "code",
      "metadata": {
        "id": "mtlKyc-9QGjg"
      },
      "source": [
        "from scipy.linalg import eigh \n",
        "\n",
        "# the parameter 'eigvals' is defined (low value to high value) \n",
        "# eigh function will return the eigen values in asending order\n",
        "# this code generates only the top 2 (782 and 783)(index) eigenvalues.\n",
        "values, vectors = eigh(covar_matrix, eigvals=(782,783))\n",
        "\n",
        "print(\"Shape of eigen vectors = \", vectors.shape)\n",
        "# converting the eigen vectors into (2,d) shape for easyness of further computations\n",
        "vectors = vectors.T\n",
        "\n",
        "print(\"Updated shape of eigen vectors = \", vectors.shape)\n",
        "# here the vectors[1] represent the eigen vector corresponding 1st principal eigen vector\n",
        "# here the vectors[0] represent the eigen vector corresponding 2nd principal eigen vector"
      ],
      "execution_count": null,
      "outputs": []
    },
    {
      "cell_type": "markdown",
      "metadata": {
        "id": "pxhSy4x5cVNH"
      },
      "source": [
        "## Visualizamos el resultado del analisis PCA"
      ]
    },
    {
      "cell_type": "code",
      "metadata": {
        "id": "zfQYzUaKQGjl"
      },
      "source": [
        "# projecting the original data sample on the plane \n",
        "#formed by two principal eigen vectors by vector-vector multiplication.\n",
        "\n",
        "trainPCAX = np.matmul(vectors, trainX.T)\n",
        "\n",
        "print (\" resultant new data points' shape \", vectors.shape, \"X\", trainX.T.shape,\" = \", trainPCAX.shape)"
      ],
      "execution_count": null,
      "outputs": []
    },
    {
      "cell_type": "code",
      "metadata": {
        "id": "q_5hc304QGjp"
      },
      "source": [
        "# appending label to the 2d projected data(vertical stack)\n",
        "trainPCA = np.vstack((trainPCAX, trainY)).T\n",
        "\n",
        "# creating a new data frame for ploting the labeled points.\n",
        "trainPCADF = pd.DataFrame(data=trainPCA, columns=(\"1st_principal\", \"2nd_principal\", \"label\"))\n",
        "print(trainPCADF.head())"
      ],
      "execution_count": null,
      "outputs": []
    },
    {
      "cell_type": "code",
      "metadata": {
        "id": "fGQ6V_LiQGjs"
      },
      "source": [
        "sns.FacetGrid(trainPCADF, hue=\"label\", size=6).map(plt.scatter, '1st_principal', '2nd_principal').add_legend()\n",
        "plt.show()"
      ],
      "execution_count": null,
      "outputs": []
    },
    {
      "cell_type": "markdown",
      "metadata": {
        "id": "g88y_UkgQGjw"
      },
      "source": [
        "# Método 2: Cálculo de PCA usando librería Scikit-Learn"
      ]
    },
    {
      "cell_type": "code",
      "metadata": {
        "id": "2Od_a_6uQGjx"
      },
      "source": [
        "from sklearn import decomposition"
      ],
      "execution_count": null,
      "outputs": []
    },
    {
      "cell_type": "code",
      "metadata": {
        "id": "L_Y6hEhEQGjy"
      },
      "source": [
        "# configuring the parameteres\n",
        "# the number of components = 2\n",
        "\n",
        "pca = decomposition.PCA()\n",
        "pca.n_components = 2\n",
        "\n",
        "trainPCAX = pca.fit_transform(trainX)\n",
        "\n",
        "# pca_reduced will contain the 2-d projects of simple data\n",
        "print(\"shape of pca_reduced.shape = \", trainPCAX.shape)"
      ],
      "execution_count": null,
      "outputs": []
    },
    {
      "cell_type": "code",
      "metadata": {
        "id": "tISf8ZwJQGj1"
      },
      "source": [
        "# attaching the label for each 2-d data point \n",
        "trainPCA = np.vstack((trainPCAX.T, trainY)).T\n",
        "\n",
        "# creating a new data fram which help us in ploting the result data\n",
        "trainPCADF = pd.DataFrame(data=trainPCA, columns=(\"1st_principal\", \"2nd_principal\", \"label\"))\n",
        "sns.FacetGrid(trainPCADF, hue=\"label\", size=6).map(plt.scatter, '1st_principal', '2nd_principal').add_legend()\n",
        "plt.show()"
      ],
      "execution_count": null,
      "outputs": []
    },
    {
      "cell_type": "markdown",
      "metadata": {
        "id": "pTaRTugBQGj7"
      },
      "source": [
        "# Método 3: t-SNE usando Scikit-Learn"
      ]
    },
    {
      "cell_type": "code",
      "metadata": {
        "id": "v_lk81excVNJ"
      },
      "source": [
        "from sklearn.manifold import TSNE"
      ],
      "execution_count": null,
      "outputs": []
    },
    {
      "cell_type": "code",
      "metadata": {
        "id": "fEDjoAa-cVNJ"
      },
      "source": [
        "nSample = 1000\n",
        "\n",
        "trainX = trainXDF.sample(nSample, random_state=42).to_numpy()\n",
        "trainY = trainYDF.sample(nSample, random_state=42).to_numpy(dtype=int)\n",
        "\n",
        "scaler = StandardScaler()\n",
        "trainProcX = scaler.fit_transform(trainX)\n",
        "\n",
        "print(\"Tamaño de trainX normalizado: \", trainProcX.shape)\n",
        "print(\"Valor mínimo: \", np.min(trainProcX))\n",
        "print(\"Valor máximo: \", np.max(trainProcX))"
      ],
      "execution_count": null,
      "outputs": []
    },
    {
      "cell_type": "markdown",
      "metadata": {
        "id": "l8SPm2jUcVNJ"
      },
      "source": [
        "Parámetros del método t-SNE\n",
        "\n",
        "- n_components: Número de componentes\n",
        "- perplexity: Nivel de perplejidad. Default es 30\n",
        "- learning rate: Tasa de aprendizaje. Default es 200\n",
        "- n_iter: Número máximo de iteraciones. Default es 1000"
      ]
    },
    {
      "cell_type": "markdown",
      "metadata": {
        "id": "A20xc3rDcVNK"
      },
      "source": [
        "## Parámetros por defecto"
      ]
    },
    {
      "cell_type": "code",
      "metadata": {
        "id": "bd2bHAybQGj8"
      },
      "source": [
        "model = TSNE(n_components=2, random_state=0)\n",
        "\n",
        "trainTSNEX = model.fit_transform(trainX)\n",
        "\n",
        "# creating a new data frame which help us in ploting the result data\n",
        "trainTSNE = np.vstack((trainTSNEX.T, trainY)).T\n",
        "trainTSNEDF = pd.DataFrame(data=trainTSNE, columns=(\"Dim_1\", \"Dim_2\", \"label\"))\n",
        "\n",
        "# Ploting the result of tsne\n",
        "sns.FacetGrid(trainTSNEDF, hue=\"label\", size=6).map(plt.scatter, 'Dim_1', 'Dim_2').add_legend()\n",
        "plt.show()"
      ],
      "execution_count": null,
      "outputs": []
    },
    {
      "cell_type": "markdown",
      "metadata": {
        "id": "QI5vJ4O0cVNK"
      },
      "source": [
        "## Uso de perplexity=50"
      ]
    },
    {
      "cell_type": "code",
      "metadata": {
        "id": "C-jgsYj8QGj_"
      },
      "source": [
        "model = TSNE(n_components=2, random_state=0, perplexity=50)\n",
        "\n",
        "trainTSNEX = model.fit_transform(trainX)\n",
        "\n",
        "# creating a new data frame which help us in ploting the result data\n",
        "trainTSNE = np.vstack((trainTSNEX.T, trainY)).T\n",
        "trainTSNEDF = pd.DataFrame(data=trainTSNE, columns=(\"Dim_1\", \"Dim_2\", \"label\"))\n",
        "\n",
        "# Ploting the result of tsne\n",
        "sns.FacetGrid(trainTSNEDF, hue=\"label\", size=6).map(plt.scatter, 'Dim_1', 'Dim_2').add_legend()\n",
        "plt.show()"
      ],
      "execution_count": null,
      "outputs": []
    },
    {
      "cell_type": "markdown",
      "metadata": {
        "id": "Elyct1vxcVNK"
      },
      "source": [
        "## Uso de perplexity=50 y n_iter=5000"
      ]
    },
    {
      "cell_type": "code",
      "metadata": {
        "id": "pCQ460syQGkC"
      },
      "source": [
        "model = TSNE(n_components=2, random_state=0, perplexity=50,  n_iter=5000)\n",
        "\n",
        "trainTSNEX = model.fit_transform(trainX)\n",
        "\n",
        "# creating a new data frame which help us in ploting the result data\n",
        "trainTSNE = np.vstack((trainTSNEX.T, trainY)).T\n",
        "trainTSNEDF = pd.DataFrame(data=trainTSNE, columns=(\"Dim_1\", \"Dim_2\", \"label\"))\n",
        "\n",
        "# Ploting the result of tsne\n",
        "sns.FacetGrid(trainTSNEDF, hue=\"label\", size=6).map(plt.scatter, 'Dim_1', 'Dim_2').add_legend()\n",
        "plt.show()"
      ],
      "execution_count": null,
      "outputs": []
    },
    {
      "cell_type": "markdown",
      "metadata": {
        "id": "64NtFgRvcVNK"
      },
      "source": [
        "## Uso de perplexity=2"
      ]
    },
    {
      "cell_type": "code",
      "metadata": {
        "id": "BkcpBB1MQGkF"
      },
      "source": [
        "model = TSNE(n_components=2, random_state=0, perplexity=2, n_iter=500)\n",
        "\n",
        "trainTSNEX = model.fit_transform(trainX)\n",
        "\n",
        "# creating a new data frame which help us in ploting the result data\n",
        "trainTSNE = np.vstack((trainTSNEX.T, trainY)).T\n",
        "trainTSNEDF = pd.DataFrame(data=trainTSNE, columns=(\"Dim_1\", \"Dim_2\", \"label\"))\n",
        "\n",
        "# Ploting the result of tsne\n",
        "sns.FacetGrid(trainTSNEDF, hue=\"label\", size=6).map(plt.scatter, 'Dim_1', 'Dim_2').add_legend()\n",
        "plt.show()"
      ],
      "execution_count": null,
      "outputs": []
    },
    {
      "cell_type": "markdown",
      "metadata": {
        "id": "AaPx8inCcVNL"
      },
      "source": [
        "# Método 4: t-SNE usando muestra de datos más grande y parámetros optimizados"
      ]
    },
    {
      "cell_type": "code",
      "metadata": {
        "id": "TowkG1tpcVNL"
      },
      "source": [
        "nSample = 10000\n",
        "\n",
        "trainX = trainXDF.sample(nSample, random_state=42).to_numpy()\n",
        "trainY = trainYDF.sample(nSample, random_state=42).to_numpy(dtype=int)\n",
        "\n",
        "scaler = StandardScaler()\n",
        "trainProcX = scaler.fit_transform(trainX)\n",
        "\n",
        "print(\"Tamaño de trainX normalizado: \", trainProcX.shape)\n",
        "print(\"Valor mínimo: \", np.min(trainProcX))\n",
        "print(\"Valor máximo: \", np.max(trainProcX))"
      ],
      "execution_count": null,
      "outputs": []
    },
    {
      "cell_type": "markdown",
      "metadata": {
        "id": "hBM2BAascVNL"
      },
      "source": [
        "Parámetros del método t-SNE\n",
        "\n",
        "- n_components: Número de componentes\n",
        "- perplexity: Nivel de perplejidad. Default es 30\n",
        "- learning rate: Tasa de aprendizaje. Default es 200\n",
        "- n_iter: Número máximo de iteraciones. Default es 1000"
      ]
    },
    {
      "cell_type": "markdown",
      "metadata": {
        "id": "lduu4JXmcVNL"
      },
      "source": [
        "## Parámetros optimizados"
      ]
    },
    {
      "cell_type": "code",
      "metadata": {
        "id": "AuVPBHF4cVNL"
      },
      "source": [
        "model = TSNE(n_components=2, random_state=0, perplexity=30, n_iter=500)\n",
        "\n",
        "trainTSNEX = model.fit_transform(trainX)\n",
        "\n",
        "# creating a new data frame which help us in ploting the result data\n",
        "trainTSNE = np.vstack((trainTSNEX.T, trainY)).T\n",
        "trainTSNEDF = pd.DataFrame(data=trainTSNE, columns=(\"Dim_1\", \"Dim_2\", \"label\"))\n",
        "\n",
        "# Ploting the result of tsne\n",
        "sns.FacetGrid(trainTSNEDF, hue=\"label\", size=6).map(plt.scatter, 'Dim_1', 'Dim_2').add_legend()\n",
        "plt.show()"
      ],
      "execution_count": null,
      "outputs": []
    },
    {
      "cell_type": "code",
      "metadata": {
        "id": "L6T6jHFXQGkK"
      },
      "source": [
        ""
      ],
      "execution_count": null,
      "outputs": []
    }
  ]
}